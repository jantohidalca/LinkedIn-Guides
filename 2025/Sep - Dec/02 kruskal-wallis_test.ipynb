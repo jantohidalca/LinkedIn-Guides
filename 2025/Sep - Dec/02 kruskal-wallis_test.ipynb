{
 "cells": [
  {
   "cell_type": "markdown",
   "id": "f556d2ee",
   "metadata": {},
   "source": [
    "# **Kruskal-Wallis Test**\n",
    "#### **Study the origin of each group in your data**\n",
    "\n",
    "## **1. What is the test telling?**\n",
    "The Kruskal-Wallis test is a non-parametric method for testing whether samples originate from the same distribution. It's often seen as the non-parametric alternative to the one-way ANOVA. which I might dedicate another guide to it.\n",
    "\n",
    "### **Formal definition**\n",
    "\n",
    "Let $k$ be an arbitrary number of groups and $\\{x_{1,1},\\dots,x_{1,n_1}\\},\\dots,\\{x_{k,1},\\dots,x_{k,n_k}\\}$ the associated sample with the 1st,..., $k$-th group respectively (all of them continuous and independent). We order the $n=n_1+\\cdots+n_k$ observations and assign a rank depending on their positions (1 the lowest possible, $n$ the highest possible). Let $R_1,\\dots,R_k$ the sum of ranks for all the observations depending on their group.\n",
    "\n",
    "The aim of the Kruskal-Wallis test is to the determine whether\n",
    "$$ H_0:\\text{All the } k \\text{ samples come from the same distribution} $$\n",
    "$$ \\text{vs} $$\n",
    "$$ H_1:\\text{Not all the } k \\text{ samples come from the same distribution} $$\n",
    "\n",
    "If you are not familiar with the coming notation or with hypothesis tests, I would highly recommend you to check this other [guide for chi-square test](https://www.linkedin.com/feed/update/urn:li:activity:7369022608576622592?utm_source=share&utm_medium=member_desktop&rcm=ACoAAFgPA70BRK5510H_8uDQmRtSasGuzVq97Pw) where I explain them in more detail before reading the rest of this section.\n",
    "\n",
    "To do so, we set a significance level $\\alpha$ (usual values are 0.95, 0.975 and 0.99) and compute the associated statistic with this test:\n",
    "$$h = \\frac{12}{n(n+1)} \\sum_{i=1}^{k} \\frac{R_{i}^{2}}{n_{i}} - 3(n+1)$$\n",
    "\n",
    "If we think of $h$ as a random variable, $H$, it can be proved (despite being beyond the scope of this guide) that\n",
    "$$H\\overset{\\mathcal{L}}{\\longrightarrow}\\chi^2_{(k-1)},\\text{ when }n\\rightarrow\\infty$$\n",
    "\n",
    "Thus, we can only reject $H_0$ if $h>c_{\\alpha,k-1}$, where $c_{\\alpha,k-1}$ is the (critical) value such that $P(\\chi^2_{(k-1)}>c_{\\alpha,k-1})=\\alpha$. Equivalently, we can only reject $H_0$ if the associated p-value $<\\alpha$.\n",
    "\n",
    "### **A toy example**\n",
    "\n",
    "For instance, imagine a researcher wants to know if the background music genre affects the time it takes for people to solve a complex puzzle. They randomly assign 15 participants to one of three groups:\n",
    "\n",
    "- **Group 1 (Classical):** Solves the puzzle with classical music playing.\n",
    "\n",
    "- **Group 2 (Rock):** Solves the puzzle with rock music playing.\n",
    "\n",
    "- **Group 3 (Silence):** Solves the puzzle in silence.\n",
    "\n",
    "The time taken to solve the puzzle (in minutes) is recorded.\n",
    "\n",
    "#### **Step 1: The data**\n",
    "\n",
    "- **Classical:** $\\{15, 17, 22, 19, 12\\}\\rightarrow n_1 = 5$\n",
    "- **Rock:** $\\{20, 25, 30, 28, 22\\}\\rightarrow n_2 = 5$\n",
    "- **Silence:** $\\{18, 12, 10, 14, 11\\}\\rightarrow n_3 = 5$\n",
    "\n",
    "Thus the total number of observations is $n_1+n_2+n_3=15$.\n",
    "\n",
    "#### **Step 2: State the hypotheses**\n",
    "\n",
    "- **Null Hypothesis** ($H_0$): There is *no difference* in the median solving times between the three music genre groups. The music genre does not affect performance.\n",
    "\n",
    "- **Alternative Hypothesis** ($H_1$): There is *a difference* in the median solving times between at least two of the groups.\n",
    "\n",
    "#### **Step 3: Rank all the data**\n",
    "\n",
    "We combine all data from all groups, order it from smallest to largest, and assign ranks. If there are ties, we assign the average rank.\n",
    "\n",
    "**Ordered Data (Time):** 10, 11, 12, 12, 14, 15, 17, 18, 19, 20, 22, 22, 25, 28, 30\n",
    "\n",
    "| Time | Group     | Rank |\n",
    "|------|-----------|------|\n",
    "| 10   | Silence   | 1    |\n",
    "| 11   | Silence   | 2    |\n",
    "| 12   | Silence   | 3.5  |\n",
    "| 12   | Classical | 3.5  |\n",
    "| 14   | Silence   | 5    |\n",
    "| 15   | Classical | 6    |\n",
    "| 17   | Classical | 7    |\n",
    "| 18   | Silence   | 8    |\n",
    "| 19   | Classical | 9    |\n",
    "| 20   | Rock      | 10   |\n",
    "| 22   | Classical | 11.5 |\n",
    "| 22   | Rock      | 11.5 |\n",
    "| 25   | Rock      | 13   |\n",
    "| 28   | Rock      | 14   |\n",
    "| 30   | Rock      | 15   |\n",
    "\n",
    "Notice we got ties for values 12 and 22. In these cases, we compute the mean of the supposed ranks: $\\frac{3+4}{2}$ and $\\frac{11+12}{2}$ respectively.\n",
    "\n",
    "#### **Step 4: Sum the ranks for each group**\n",
    "\n",
    "- $R_1$ *(Classical):* 3.5 + 6 + 7 + 9 + 11.5 = 37\n",
    "\n",
    "- $R_2$ *(Rock):* 10 + 11.5 + 13 + 14 + 15 = 63.5\n",
    "\n",
    "- $R_3$ *(Silence):* 1 + 2 + 3.5 + 5 + 8 = 19.5\n",
    "\n",
    "#### **Step 5: Calculate the $H$ statistic**\n",
    "\n",
    "$$h = \\frac{12}{n(n+1)} \\left( \\frac{R_1^2}{n_1} + \\frac{R_2^2}{n_2} + \\frac{R_3^2}{n_3} \\right) - 3(n+1)=9.815$$\n",
    "\n",
    "#### **Step 6: Interpret the result**\n",
    "In this case, the $H$ statistic follows a Chi-square distribution. Because $k=3$ is the number of groups (classical, rock and silence), the degrees of freedom of the chi-square distribution are $k-1=2$.\n",
    "\n",
    "The critical value for $\\chi^2_{(2)}$ and a significance level of $\\alpha=0.05$ is 5.991. Because this number is below 9.815, we **reject the null hypothesis**.\n"
   ]
  },
  {
   "cell_type": "markdown",
   "id": "4d004d3f",
   "metadata": {},
   "source": [
    "## **2. When to prefer the Kruskal-Wallis test**\n",
    "\n",
    "You would run the Kruskal-Wallis test in the following scenarios:\n",
    "\n",
    "### **a) To objectively confirm visual patterns**"
   ]
  },
  {
   "cell_type": "markdown",
   "id": "154532bc",
   "metadata": {},
   "source": [
    "Imagine a cloud provider wants to test the performance of its service. They measure the load time (in milliseconds) of a standard webpage hosted on servers in four different geographical regions: North America, Europe, Asia and South America.\n",
    "\n",
    "We start by creating the data using Python:"
   ]
  },
  {
   "cell_type": "code",
   "execution_count": 1,
   "id": "ae803557",
   "metadata": {},
   "outputs": [],
   "source": [
    "# Import the dependencies we will need throughout this guide\n",
    "import numpy as np\n",
    "import pandas as pd\n",
    "import matplotlib.pyplot as plt\n",
    "import seaborn as sns\n",
    "from scipy.stats import kruskal"
   ]
  },
  {
   "cell_type": "code",
   "execution_count": 2,
   "id": "f446689a",
   "metadata": {},
   "outputs": [],
   "source": [
    "# Set a seed for reproducibility\n",
    "np.random.seed(42)  # The answer to everything\n",
    "\n",
    "# Number of samples per region\n",
    "n_samples = 250\n",
    "regions = ['North_America', 'Europe', 'Asia', 'South_America']\n",
    "\n",
    "# We will create data for each region with different underlying distributions\n",
    "# We'll use the lognormal distribution to create realistic, right-skewed load times.\n",
    "\n",
    "data = []\n",
    "for region in regions:\n",
    "    if region == 'North_America':\n",
    "        # Fast and consistent\n",
    "        load_time = np.random.lognormal(mean=5.2, sigma=0.15, size=n_samples)\n",
    "    elif region == 'Europe':\n",
    "        # Slightly slower and more variable than NA\n",
    "        load_time = np.random.lognormal(mean=5.3, sigma=0.2, size=n_samples)\n",
    "    elif region == 'Asia':\n",
    "        # Noticeably slower, high variance\n",
    "        load_time = np.random.lognormal(mean=5.5, sigma=0.25, size=n_samples)\n",
    "    elif region == 'South_America':\n",
    "        # Slowest, but slightly less variable than Asia\n",
    "        load_time = np.random.lognormal(mean=5.4, sigma=0.30, size=n_samples)\n",
    "\n",
    "    # Create a DataFrame for this region and append it to the list\n",
    "    df_region = pd.DataFrame({\n",
    "        'Server_Region': region,\n",
    "        'Load_Time_ms': load_time\n",
    "    })\n",
    "    data.append(df_region)\n",
    "\n",
    "# Combine all regional DataFrames into one\n",
    "df = pd.concat(data, ignore_index=True)\n"
   ]
  },
  {
   "cell_type": "code",
   "execution_count": 3,
   "id": "97451613",
   "metadata": {},
   "outputs": [
    {
     "data": {
      "text/html": [
       "<div>\n",
       "<style scoped>\n",
       "    .dataframe tbody tr th:only-of-type {\n",
       "        vertical-align: middle;\n",
       "    }\n",
       "\n",
       "    .dataframe tbody tr th {\n",
       "        vertical-align: top;\n",
       "    }\n",
       "\n",
       "    .dataframe thead th {\n",
       "        text-align: right;\n",
       "    }\n",
       "</style>\n",
       "<table border=\"1\" class=\"dataframe\">\n",
       "  <thead>\n",
       "    <tr style=\"text-align: right;\">\n",
       "      <th></th>\n",
       "      <th>Server_Region</th>\n",
       "      <th>Load_Time_ms</th>\n",
       "    </tr>\n",
       "  </thead>\n",
       "  <tbody>\n",
       "    <tr>\n",
       "      <th>541</th>\n",
       "      <td>Asia</td>\n",
       "      <td>184.485946</td>\n",
       "    </tr>\n",
       "    <tr>\n",
       "      <th>466</th>\n",
       "      <td>Europe</td>\n",
       "      <td>226.520022</td>\n",
       "    </tr>\n",
       "    <tr>\n",
       "      <th>181</th>\n",
       "      <td>North_America</td>\n",
       "      <td>159.401530</td>\n",
       "    </tr>\n",
       "    <tr>\n",
       "      <th>332</th>\n",
       "      <td>Europe</td>\n",
       "      <td>203.397239</td>\n",
       "    </tr>\n",
       "    <tr>\n",
       "      <th>40</th>\n",
       "      <td>North_America</td>\n",
       "      <td>202.506095</td>\n",
       "    </tr>\n",
       "    <tr>\n",
       "      <th>890</th>\n",
       "      <td>South_America</td>\n",
       "      <td>283.197534</td>\n",
       "    </tr>\n",
       "    <tr>\n",
       "      <th>80</th>\n",
       "      <td>North_America</td>\n",
       "      <td>175.396516</td>\n",
       "    </tr>\n",
       "    <tr>\n",
       "      <th>198</th>\n",
       "      <td>North_America</td>\n",
       "      <td>182.861915</td>\n",
       "    </tr>\n",
       "    <tr>\n",
       "      <th>505</th>\n",
       "      <td>Asia</td>\n",
       "      <td>216.636028</td>\n",
       "    </tr>\n",
       "    <tr>\n",
       "      <th>586</th>\n",
       "      <td>Asia</td>\n",
       "      <td>218.144955</td>\n",
       "    </tr>\n",
       "  </tbody>\n",
       "</table>\n",
       "</div>"
      ],
      "text/plain": [
       "     Server_Region  Load_Time_ms\n",
       "541           Asia    184.485946\n",
       "466         Europe    226.520022\n",
       "181  North_America    159.401530\n",
       "332         Europe    203.397239\n",
       "40   North_America    202.506095\n",
       "890  South_America    283.197534\n",
       "80   North_America    175.396516\n",
       "198  North_America    182.861915\n",
       "505           Asia    216.636028\n",
       "586           Asia    218.144955"
      ]
     },
     "execution_count": 3,
     "metadata": {},
     "output_type": "execute_result"
    }
   ],
   "source": [
    "df.sample(10)"
   ]
  },
  {
   "cell_type": "markdown",
   "id": "4cbec888",
   "metadata": {},
   "source": [
    "A boxplot is the ideal visualization to motivate this scenario."
   ]
  },
  {
   "cell_type": "code",
   "execution_count": 4,
   "id": "3478b8a6",
   "metadata": {},
   "outputs": [
    {
     "data": {
      "image/png": "[encoded data removed]",
      "text/plain": [
       "<Figure size 1000x600 with 1 Axes>"
      ]
     },
     "metadata": {},
     "output_type": "display_data"
    }
   ],
   "source": [
    "# Create the plot\n",
    "plt.figure(figsize=(10, 6))\n",
    "sns.boxplot(data=df, x='Server_Region', y='Load_Time_ms')\n",
    "plt.title('Website Load Time Distribution by Server Region', fontsize=14, fontweight='bold')\n",
    "plt.xlabel('Server Region', fontweight='bold')\n",
    "plt.ylabel('Load Time (ms)', fontweight='bold')\n",
    "plt.xticks(rotation=45)\n",
    "plt.tight_layout()\n",
    "plt.show()"
   ]
  },
  {
   "cell_type": "markdown",
   "id": "34ae8c3d",
   "metadata": {},
   "source": [
    "Both the medians (lines inside the boxes)  and the variance (size of the boxes and whiskers) are different for each region. Asia and South America have wider distributions.\n",
    "\n",
    "The plot suggests a difference, but we need to know if it's statistically significant or could just be random variation. This is when the Kruskal-Wallis test comes to action:"
   ]
  },
  {
   "cell_type": "code",
   "execution_count": 5,
   "id": "4a7745aa",
   "metadata": {},
   "outputs": [
    {
     "data": {
      "text/plain": [
       "(np.float64(211.67122103496513), np.float64(1.2676131268976922e-45))"
      ]
     },
     "execution_count": 5,
     "metadata": {},
     "output_type": "execute_result"
    }
   ],
   "source": [
    "# Prepare data for the test: split the numerical variable by group\n",
    "grouped_data = [group['Load_Time_ms'].values for name, group in df.groupby('Server_Region')]\n",
    "\n",
    "# Perform the Kruskal-Wallis test\n",
    "h_statistic, p_value = kruskal(*grouped_data)\n",
    "h_statistic, p_value"
   ]
  },
  {
   "cell_type": "markdown",
   "id": "0e68cf0c",
   "metadata": {},
   "source": [
    "Since the p-value is practically 0, we can reject the null hypothesis $H_0$ of the data coming from the same distribution at any signifance level $\\alpha$."
   ]
  },
  {
   "cell_type": "markdown",
   "id": "849f3827",
   "metadata": {},
   "source": [
    "### **b) When the data violates the assumptions of ANOVA**\n",
    "\n",
    "This is a primary technical reason. The one-way ANOVA requires:\n",
    "\n",
    "- Normally distributed data within each group.\n",
    "\n",
    "- Homogeneity of variances (similar spread across groups).\n",
    "\n",
    "The Kruskal-Wallis test does **not** require these assumptions. It's based on data ranks, making it robust to outliers and non-normal distributions.\n",
    "\n",
    "In our previous example, the data was non-normal (right-skewed), which violated the ANOVA assumption but was perfectly handled by Kruskal-Wallis:"
   ]
  },
  {
   "cell_type": "code",
   "execution_count": 23,
   "id": "50965657",
   "metadata": {},
   "outputs": [
    {
     "data": {
      "text/plain": [
       "<function matplotlib.pyplot.show(close=None, block=None)>"
      ]
     },
     "execution_count": 23,
     "metadata": {},
     "output_type": "execute_result"
    },
    {
     "data": {
      "image/png": "[encoded data removed]",
      "text/plain": [
       "<Figure size 1000x300 with 4 Axes>"
      ]
     },
     "metadata": {},
     "output_type": "display_data"
    }
   ],
   "source": [
    "df.hist(column='Load_Time_ms', by='Server_Region', bins=15, layout=(1,4), figsize=(10,3))\n",
    "plt.tight_layout()\n",
    "plt.show"
   ]
  },
  {
   "cell_type": "markdown",
   "id": "6bf292b1",
   "metadata": {},
   "source": [
    "### **c) When Dealing with Ordinal Data**\n",
    "\n",
    "The Kruskal-Wallis test is ideal for ordinal data. For example, a retail chain wants to compare customer satisfaction at three of its store locations.\n",
    "\n",
    "- **Independent Variable (Categorical - Groups):** `Store_Location`\n",
    "\n",
    "    - `Store_A`\n",
    "\n",
    "    - `Store_B` \n",
    "\n",
    "    - `Store_C`\n",
    "\n",
    "- **Dependent Variable (Ordinal - Rating):** `Satisfaction_Rating`\n",
    "\n",
    "    - 1 - Very Dissatisfied\n",
    "\n",
    "    - 2 - Dissatisfied\n",
    "\n",
    "    - 3 - Neutral\n",
    "\n",
    "    - 4 - Satisfied\n",
    "\n",
    "    - 5 - Very Satisfied\n",
    "\n",
    "I will design the data so that the distributions of ratings are different for each store, implying different median levels of satisfaction."
   ]
  },
  {
   "cell_type": "code",
   "execution_count": 7,
   "id": "e5d5e2a2",
   "metadata": {},
   "outputs": [],
   "source": [
    "# Set a seed for reproducibility\n",
    "np.random.seed(7) # Chosen to create a clear example\n",
    "\n",
    "# Total number of customers surveyed\n",
    "n_customers = 1000\n",
    "\n",
    "# Define the store names and rating scale\n",
    "stores = ['Store_A', 'Store_B', 'Store_C']\n",
    "ratings = [1, 2, 3, 4, 5]\n",
    "rating_labels = ['Very Dissatisfied', 'Dissatisfied', 'Neutral', 'Satisfied', 'Very Satisfied']\n",
    "\n",
    "# Create a list to hold our data\n",
    "data = []\n",
    "\n",
    "# Define the probability distribution for each store's ratings.\n",
    "# This is where we invent the story.\n",
    "\n",
    "probabilities = {\n",
    "    'Store_A': [0.05, 0.10, 0.15, 0.40, 0.30],  # Most customers are Satisfied/Very Satisfied\n",
    "    'Store_B': [0.10, 0.20, 0.40, 0.20, 0.10],  # The majority are Neutral\n",
    "    'Store_C': [0.25, 0.25, 0.25, 0.15, 0.10]   # Ratings are spread out, leaning negative\n",
    "}\n",
    "\n",
    "# Generate the data for each store\n",
    "for store in stores:\n",
    "    # Generate the ratings for this store based on its probability distribution\n",
    "    store_ratings = np.random.choice(ratings, size=n_customers // len(stores), p=probabilities[store])\n",
    "    \n",
    "    # Create a DataFrame for this store's data\n",
    "    for rating in store_ratings:\n",
    "        data.append({'Store_Location': store, 'Satisfaction_Rating': rating})\n",
    "\n",
    "# Create the main DataFrame\n",
    "df2 = pd.DataFrame(data)"
   ]
  },
  {
   "cell_type": "code",
   "execution_count": 8,
   "id": "61994b17",
   "metadata": {},
   "outputs": [
    {
     "data": {
      "text/html": [
       "<div>\n",
       "<style scoped>\n",
       "    .dataframe tbody tr th:only-of-type {\n",
       "        vertical-align: middle;\n",
       "    }\n",
       "\n",
       "    .dataframe tbody tr th {\n",
       "        vertical-align: top;\n",
       "    }\n",
       "\n",
       "    .dataframe thead th {\n",
       "        text-align: right;\n",
       "    }\n",
       "</style>\n",
       "<table border=\"1\" class=\"dataframe\">\n",
       "  <thead>\n",
       "    <tr style=\"text-align: right;\">\n",
       "      <th></th>\n",
       "      <th>Store_Location</th>\n",
       "      <th>Satisfaction_Rating</th>\n",
       "    </tr>\n",
       "  </thead>\n",
       "  <tbody>\n",
       "    <tr>\n",
       "      <th>2</th>\n",
       "      <td>Store_A</td>\n",
       "      <td>4</td>\n",
       "    </tr>\n",
       "    <tr>\n",
       "      <th>970</th>\n",
       "      <td>Store_C</td>\n",
       "      <td>4</td>\n",
       "    </tr>\n",
       "    <tr>\n",
       "      <th>526</th>\n",
       "      <td>Store_B</td>\n",
       "      <td>3</td>\n",
       "    </tr>\n",
       "    <tr>\n",
       "      <th>811</th>\n",
       "      <td>Store_C</td>\n",
       "      <td>3</td>\n",
       "    </tr>\n",
       "    <tr>\n",
       "      <th>904</th>\n",
       "      <td>Store_C</td>\n",
       "      <td>4</td>\n",
       "    </tr>\n",
       "    <tr>\n",
       "      <th>86</th>\n",
       "      <td>Store_A</td>\n",
       "      <td>4</td>\n",
       "    </tr>\n",
       "    <tr>\n",
       "      <th>936</th>\n",
       "      <td>Store_C</td>\n",
       "      <td>3</td>\n",
       "    </tr>\n",
       "    <tr>\n",
       "      <th>5</th>\n",
       "      <td>Store_A</td>\n",
       "      <td>4</td>\n",
       "    </tr>\n",
       "    <tr>\n",
       "      <th>423</th>\n",
       "      <td>Store_B</td>\n",
       "      <td>5</td>\n",
       "    </tr>\n",
       "    <tr>\n",
       "      <th>345</th>\n",
       "      <td>Store_B</td>\n",
       "      <td>4</td>\n",
       "    </tr>\n",
       "  </tbody>\n",
       "</table>\n",
       "</div>"
      ],
      "text/plain": [
       "    Store_Location  Satisfaction_Rating\n",
       "2          Store_A                    4\n",
       "970        Store_C                    4\n",
       "526        Store_B                    3\n",
       "811        Store_C                    3\n",
       "904        Store_C                    4\n",
       "86         Store_A                    4\n",
       "936        Store_C                    3\n",
       "5          Store_A                    4\n",
       "423        Store_B                    5\n",
       "345        Store_B                    4"
      ]
     },
     "execution_count": 8,
     "metadata": {},
     "output_type": "execute_result"
    }
   ],
   "source": [
    "df2.sample(10)"
   ]
  },
  {
   "cell_type": "markdown",
   "id": "bd781d91",
   "metadata": {},
   "source": [
    "The best plot for this example is the 100% stacked bar chart, so we will need the percentage contingency table."
   ]
  },
  {
   "cell_type": "code",
   "execution_count": 9,
   "id": "eddd9925",
   "metadata": {},
   "outputs": [
    {
     "data": {
      "text/html": [
       "<div>\n",
       "<style scoped>\n",
       "    .dataframe tbody tr th:only-of-type {\n",
       "        vertical-align: middle;\n",
       "    }\n",
       "\n",
       "    .dataframe tbody tr th {\n",
       "        vertical-align: top;\n",
       "    }\n",
       "\n",
       "    .dataframe thead th {\n",
       "        text-align: right;\n",
       "    }\n",
       "</style>\n",
       "<table border=\"1\" class=\"dataframe\">\n",
       "  <thead>\n",
       "    <tr style=\"text-align: right;\">\n",
       "      <th>Satisfaction_Rating</th>\n",
       "      <th>1</th>\n",
       "      <th>2</th>\n",
       "      <th>3</th>\n",
       "      <th>4</th>\n",
       "      <th>5</th>\n",
       "    </tr>\n",
       "    <tr>\n",
       "      <th>Store_Location</th>\n",
       "      <th></th>\n",
       "      <th></th>\n",
       "      <th></th>\n",
       "      <th></th>\n",
       "      <th></th>\n",
       "    </tr>\n",
       "  </thead>\n",
       "  <tbody>\n",
       "    <tr>\n",
       "      <th>Store_A</th>\n",
       "      <td>5.71</td>\n",
       "      <td>11.41</td>\n",
       "      <td>13.21</td>\n",
       "      <td>39.04</td>\n",
       "      <td>30.63</td>\n",
       "    </tr>\n",
       "    <tr>\n",
       "      <th>Store_B</th>\n",
       "      <td>10.21</td>\n",
       "      <td>22.52</td>\n",
       "      <td>37.24</td>\n",
       "      <td>18.02</td>\n",
       "      <td>12.01</td>\n",
       "    </tr>\n",
       "    <tr>\n",
       "      <th>Store_C</th>\n",
       "      <td>22.82</td>\n",
       "      <td>27.03</td>\n",
       "      <td>25.83</td>\n",
       "      <td>16.52</td>\n",
       "      <td>7.81</td>\n",
       "    </tr>\n",
       "  </tbody>\n",
       "</table>\n",
       "</div>"
      ],
      "text/plain": [
       "Satisfaction_Rating      1      2      3      4      5\n",
       "Store_Location                                        \n",
       "Store_A               5.71  11.41  13.21  39.04  30.63\n",
       "Store_B              10.21  22.52  37.24  18.02  12.01\n",
       "Store_C              22.82  27.03  25.83  16.52   7.81"
      ]
     },
     "execution_count": 9,
     "metadata": {},
     "output_type": "execute_result"
    }
   ],
   "source": [
    "# Create a percentage contingency table for the 100% stacked bar chart\n",
    "contingency_table = pd.crosstab(df2['Store_Location'], df2['Satisfaction_Rating'])\n",
    "sum_rows_ct = contingency_table.sum(axis='columns').values\n",
    "contingency_table_pct = contingency_table.div(sum_rows_ct, axis='index')*100\n",
    "contingency_table_pct.round(2)"
   ]
  },
  {
   "cell_type": "code",
   "execution_count": 10,
   "id": "8edd3a81",
   "metadata": {},
   "outputs": [
    {
     "data": {
      "text/plain": [
       "<Figure size 1000x600 with 0 Axes>"
      ]
     },
     "metadata": {},
     "output_type": "display_data"
    },
    {
     "data": {
      "image/png": "[encoded data removed]",
      "text/plain": [
       "<Figure size 640x480 with 1 Axes>"
      ]
     },
     "metadata": {},
     "output_type": "display_data"
    }
   ],
   "source": [
    "# Plot the 100% stacked bar chart\n",
    "plt.figure(figsize=(10, 6))\n",
    "ax = contingency_table_pct.plot.bar(stacked=True, colormap='RdYlGn') # Red-Yellow-Green colormap is intuitive\n",
    "\n",
    "plt.title('Customer Satisfaction Distribution by Store', fontsize=16, fontweight='bold')\n",
    "plt.xlabel('Store Location', fontweight='bold')\n",
    "plt.ylabel('Percentage of Customers (%)', fontweight='bold')\n",
    "plt.xticks(rotation=0)\n",
    "\n",
    "# Move the legend and set the title\n",
    "plt.legend(\n",
    "    title='Satisfaction Rating',\n",
    "    labels=rating_labels,\n",
    "    loc='upper left',\n",
    "    bbox_to_anchor=(1.05,0.75)\n",
    ")\n",
    "\n",
    "plt.tight_layout()\n",
    "plt.show()"
   ]
  },
  {
   "cell_type": "markdown",
   "id": "1a1ea0e8",
   "metadata": {},
   "source": [
    "The plot suggests a difference, but we need to know if it's statistically significant or could just be random variation."
   ]
  },
  {
   "cell_type": "code",
   "execution_count": null,
   "id": "606dbca4",
   "metadata": {},
   "outputs": [
    {
     "data": {
      "text/plain": [
       "(np.float64(152.25813394077304), np.float64(8.660965373929319e-34))"
      ]
     },
     "execution_count": 11,
     "metadata": {},
     "output_type": "execute_result"
    }
   ],
   "source": [
    "# Prepare data for the test: split the numerical variable by group\n",
    "grouped_data = [group['Satisfaction_Rating'].values for name, group in df2.groupby('Store_Location')]\n",
    "\n",
    "# Perform the Kruskal-Wallis test\n",
    "h_statistic, p_value = kruskal(*grouped_data)\n",
    "h_statistic, p_value"
   ]
  },
  {
   "cell_type": "markdown",
   "id": "c4b57f58",
   "metadata": {},
   "source": [
    "Since the p-value is practically 0, we can reject the null hypothesis $H_0$ of the data coming from the same distribution at any signifance level $\\alpha$.\n",
    "\n",
    "In this example, a natural choice could have been also the [Chi-square test](https://www.linkedin.com/feed/update/urn:li:activity:7369022608576622592?utm_source=share&utm_medium=member_desktop&rcm=ACoAAFgPA70BRK5510H_8uDQmRtSasGuzVq97Pw). However, it is more sensitive to any difference in the distribution. For example, if three stores had the same median rating but one had much more polarized reviews (more 1s and 5s, fewer 3s), the Chi-square test might detect this as a significant association, while the Kruskal-Wallis test might not, as the medians are similar."
   ]
  },
  {
   "cell_type": "markdown",
   "id": "40973539",
   "metadata": {},
   "source": [
    "### **d) Detecting seasonality in time series**\n",
    "\n",
    "As Avijit Bhattacharjee points out on a dedicated [time series post](https://shorturl.at/BuCNK), \"seasonality manifests as repetitive patterns within a time series that are associated with specific time intervals. [...] While plots such as line charts or boxplots by months or years can be effective, the Kruskal-Wallis test offers a robust statistical approach to confirm the presence of seasonality.\"\n",
    "\n",
    "We will follow the same example as him, analyzing the trends in atmospheric carbon dioxide from 1958 to 2025, which is available on a GitHub file.\n",
    "\n"
   ]
  },
  {
   "cell_type": "code",
   "execution_count": 12,
   "id": "824a57fc",
   "metadata": {},
   "outputs": [],
   "source": [
    "# Import the data\n",
    "dataset_url = 'https://raw.githubusercontent.com/datasets/co2-ppm/refs/heads/main/data/co2-mm-mlo.csv'\n",
    "header_names = ['Date','Interpolated']\n",
    "\n",
    "co2_df = pd.read_csv(\n",
    "    dataset_url, \n",
    "    header=0, \n",
    "    names=header_names, \n",
    "    usecols=[0,3])\n",
    "\n",
    "# Transform date column to period format\n",
    "co2_df['Date'] = pd.to_datetime(co2_df['Date'])\n",
    "co2_df['Date'] = co2_df['Date'].dt.to_period('M')"
   ]
  },
  {
   "cell_type": "code",
   "execution_count": 13,
   "id": "d3bbbf76",
   "metadata": {},
   "outputs": [
    {
     "data": {
      "text/html": [
       "<div>\n",
       "<style scoped>\n",
       "    .dataframe tbody tr th:only-of-type {\n",
       "        vertical-align: middle;\n",
       "    }\n",
       "\n",
       "    .dataframe tbody tr th {\n",
       "        vertical-align: top;\n",
       "    }\n",
       "\n",
       "    .dataframe thead th {\n",
       "        text-align: right;\n",
       "    }\n",
       "</style>\n",
       "<table border=\"1\" class=\"dataframe\">\n",
       "  <thead>\n",
       "    <tr style=\"text-align: right;\">\n",
       "      <th></th>\n",
       "      <th>Date</th>\n",
       "      <th>Interpolated</th>\n",
       "    </tr>\n",
       "  </thead>\n",
       "  <tbody>\n",
       "    <tr>\n",
       "      <th>0</th>\n",
       "      <td>1958-03</td>\n",
       "      <td>314.44</td>\n",
       "    </tr>\n",
       "    <tr>\n",
       "      <th>1</th>\n",
       "      <td>1958-04</td>\n",
       "      <td>315.16</td>\n",
       "    </tr>\n",
       "    <tr>\n",
       "      <th>2</th>\n",
       "      <td>1958-05</td>\n",
       "      <td>314.69</td>\n",
       "    </tr>\n",
       "    <tr>\n",
       "      <th>3</th>\n",
       "      <td>1958-06</td>\n",
       "      <td>315.15</td>\n",
       "    </tr>\n",
       "    <tr>\n",
       "      <th>4</th>\n",
       "      <td>1958-07</td>\n",
       "      <td>315.20</td>\n",
       "    </tr>\n",
       "  </tbody>\n",
       "</table>\n",
       "</div>"
      ],
      "text/plain": [
       "      Date  Interpolated\n",
       "0  1958-03        314.44\n",
       "1  1958-04        315.16\n",
       "2  1958-05        314.69\n",
       "3  1958-06        315.15\n",
       "4  1958-07        315.20"
      ]
     },
     "execution_count": 13,
     "metadata": {},
     "output_type": "execute_result"
    }
   ],
   "source": [
    "co2_df.head()"
   ]
  },
  {
   "cell_type": "markdown",
   "id": "cfbf951e",
   "metadata": {},
   "source": [
    "First we will plot a line chart to see any pattern of seasonality."
   ]
  },
  {
   "cell_type": "code",
   "execution_count": 14,
   "id": "0c1ee4c8",
   "metadata": {},
   "outputs": [
    {
     "data": {
      "text/plain": [
       "<Figure size 1000x600 with 0 Axes>"
      ]
     },
     "metadata": {},
     "output_type": "display_data"
    },
    {
     "data": {
      "image/png": "[encoded data removed]",
      "text/plain": [
       "<Figure size 640x480 with 1 Axes>"
      ]
     },
     "metadata": {},
     "output_type": "display_data"
    }
   ],
   "source": [
    "# Create the plot\n",
    "plt.figure(figsize=(10, 6))\n",
    "co2_df.plot(x='Date', y='Interpolated', legend=False)\n",
    "plt.title('CO2 — Trends in Atmospheric Carbon Dioxide', fontsize=14, fontweight='bold')\n",
    "plt.xlabel('Months', fontweight='bold')\n",
    "plt.ylabel('Estimated Mean CO2 Mole Fraction', fontweight='bold')\n",
    "plt.xticks(rotation=45)\n",
    "plt.tight_layout()\n",
    "plt.show()"
   ]
  },
  {
   "cell_type": "markdown",
   "id": "6a614017",
   "metadata": {},
   "source": [
    "It is notable there is upwards trend, but we are not able to see patters of seasonality in detail since we have a lot of months within the dataset. \n",
    "\n",
    "Although we could plot a few years from the dataset to study seasonality, we will conduct the Kruskal-Wallis instead by groupping the observations by years."
   ]
  },
  {
   "cell_type": "code",
   "execution_count": 15,
   "id": "7b52d9af",
   "metadata": {},
   "outputs": [
    {
     "data": {
      "text/plain": [
       "(np.float64(807.7063561466238), np.float64(1.4777741349041362e-127))"
      ]
     },
     "execution_count": 15,
     "metadata": {},
     "output_type": "execute_result"
    }
   ],
   "source": [
    "# Extract the year from each observation\n",
    "co2_df['Year'] = co2_df['Date'].dt.year\n",
    "\n",
    "# Prepare data for the test: split the numerical variable by group\n",
    "grouped_data = [group['Interpolated'] for name, group in co2_df.groupby('Year')]\n",
    "\n",
    "# Perform the Kruskal-Wallis test\n",
    "h_statistic, p_value = kruskal(*grouped_data)\n",
    "h_statistic, p_value"
   ]
  },
  {
   "cell_type": "markdown",
   "id": "9de26092",
   "metadata": {},
   "source": [
    "As [Avijit Bhattacharjee](https://www.linkedin.com/in/avijit-bhattacharjee-61b5a3192/) explains, \"the Kruskal-Wallis test provides evidence of seasonality since the p-value associated with the test statistic is below the chosen significance level. A low p-value suggests that there are significant differences between the groups, warranting the existence of seasonality.\"\n",
    "\n",
    "### **e) For subtle effects that are not visually obvious**\n",
    "\n",
    "With many groups or large sample sizes, differences in medians can be small and visually ambiguous on a plot. We have seen this in the last example, when we had more than 50 fifty years to analyze."
   ]
  }
 ],
 "metadata": {
  "kernelspec": {
   "display_name": ".venv",
   "language": "python",
   "name": "python3"
  },
  "language_info": {
   "codemirror_mode": {
    "name": "ipython",
    "version": 3
   },
   "file_extension": ".py",
   "mimetype": "text/x-python",
   "name": "python",
   "nbconvert_exporter": "python",
   "pygments_lexer": "ipython3",
   "version": "3.13.5"
  }
 },
 "nbformat": 4,
 "nbformat_minor": 5
}
