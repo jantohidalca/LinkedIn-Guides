{
 "cells": [
  {
   "cell_type": "markdown",
   "id": "06af30bb",
   "metadata": {},
   "source": [
    "# **Chi-Square Test of Independence**\n",
    "#### **The quantitative measure that allows you to confirm relations**\n",
    "\n",
    "# **1.When to use this test?**\n",
    "\n",
    "In order to confirm the **relationship between two categorical variables**, a plot like a stacked bar chart or a mosaic plot might be enough.\n",
    "\n",
    "However, there are different scenarios in which you might  want to complement the plot with the Chi-square test.\n",
    "\n",
    "#### **a) To Make a Definitive Conclusion about Significance**\n",
    "\n",
    "This is the most important reason. A plot can suggest a relationship, but it can't tell you if that relationship is meaningful.\n",
    "\n",
    "When you need to answer \"*Is this effect real?*\" with a measurable level of confidence, the test is really useful.\n",
    "\n",
    "#### **b) For Objective Decision-Making and Reporting**\n",
    "\n",
    "Plots are subjective—two people might look at the same chart and draw different conclusions. Such a statistical test provides an objective standard. \n",
    "\n",
    "Whenever you need to convince a critical audience, make a data-driven decision, or include results in formal research, don’t forget to implement them.\n",
    "\n",
    "#### **c) When the Effect is Subtle and Not Visually Obvious**\n",
    "\n",
    "Sometimes, a relationship exists but is too subtle for the human eye to reliably detect in a plot, especially with large sample sizes or many categories.\n",
    "\n",
    "#### **d) Before Quantifying the Strength of the Association (Follow-up Tests)**\n",
    "\n",
    "As I have said before, a Chi-square test tells you how significant a relationship between (categorical) variables is, but not how strong it is. Despite this drawback, it is still a good starting for subsequent measures like the [Cramér’s V coefficient](https://www.geeksforgeeks.org/data-analysis/calculate-cramer-s-coefficient-matrix-using-pandas/)."
   ]
  },
  {
   "cell_type": "markdown",
   "id": "d85ed57c",
   "metadata": {},
   "source": [
    "# **2. Practice Example**"
   ]
  },
  {
   "cell_type": "markdown",
   "id": "efb04908",
   "metadata": {},
   "source": [
    "In this Jupyter Notebook we will implement the Chi-square test to detect whether two categorical variables are independent or not. \n",
    "\n",
    "Imagine the company *Nutflux* has 3 different subscription plans (*Basic*, *Plus* and *Premium*) and wants to see if the preference for these plans is independent of the customer's age group (18-25, 26-40, 41-60, 61+). "
   ]
  },
  {
   "cell_type": "code",
   "execution_count": null,
   "id": "8d923a4a",
   "metadata": {},
   "outputs": [],
   "source": [
    "# Import the dependencies we need\n",
    "import pandas as pd  # To store data\n",
    "import numpy as np # To numerical computation\n",
    "import matplotlib.pyplot as plt # Tool for pandas to plot\n",
    "from scipy.stats import chi2_contingency # To compute the chi-square test"
   ]
  },
  {
   "cell_type": "markdown",
   "id": "af60347e",
   "metadata": {},
   "source": [
    "## **Analysis**"
   ]
  },
  {
   "cell_type": "markdown",
   "id": "c31a3aee",
   "metadata": {},
   "source": [
    "We start by creating the imaginary dataset for Nutflux."
   ]
  },
  {
   "cell_type": "code",
   "execution_count": 4,
   "id": "0528bdec",
   "metadata": {},
   "outputs": [],
   "source": [
    "# Set a seed for reproducibility\n",
    "np.random.seed(42)  # The answer to everything\n",
    "\n",
    "# Define the sizes for each age group\n",
    "age_groups = ['18-25', '26-40', '41-60', '61+']\n",
    "age_distribution = [125, 150, 125, 100]\n",
    "\n",
    "# Create the base DataFrame\n",
    "data = []\n",
    "for age, count in zip(age_groups, age_distribution):\n",
    "    data.extend([age] * count)\n",
    "\n",
    "df = pd.DataFrame(data, columns=['Age_Group'])\n",
    "\n",
    "# Now assign subscription plans with a bias for each age group\n",
    "\n",
    "plan_probabilities = {\n",
    "    # [Prob_Basic, Prob_Plus, Prob_Premium]\n",
    "    '18-25': [0.23, 0.44, 0.33],\n",
    "    '26-40': [0.15, 0.53, 0.32],\n",
    "    '41-60': [0.19, 0.52, 0.29],\n",
    "    '61+':   [0.23, 0.42, 0.35]\n",
    "}\n",
    "\n",
    "plans = ['Basic', 'Plus', 'Premium']\n",
    "\n",
    "df['Subscription_Plan'] = df['Age_Group'].apply(\n",
    "    lambda x: np.random.choice(plans, p=plan_probabilities[x])\n",
    ")"
   ]
  },
  {
   "cell_type": "markdown",
   "id": "8256773b",
   "metadata": {},
   "source": [
    "The most important step in the creation has been the fact of assigning slightly different probabilities for each plan depending on the age group of every user via `plan_probabilities`. The goal of the chi-square test will be determine whether this changes in the probabilities are significant to stablish a relationship or not."
   ]
  },
  {
   "cell_type": "code",
   "execution_count": 5,
   "id": "500e5d9c",
   "metadata": {},
   "outputs": [
    {
     "data": {
      "text/html": [
       "<div>\n",
       "<style scoped>\n",
       "    .dataframe tbody tr th:only-of-type {\n",
       "        vertical-align: middle;\n",
       "    }\n",
       "\n",
       "    .dataframe tbody tr th {\n",
       "        vertical-align: top;\n",
       "    }\n",
       "\n",
       "    .dataframe thead th {\n",
       "        text-align: right;\n",
       "    }\n",
       "</style>\n",
       "<table border=\"1\" class=\"dataframe\">\n",
       "  <thead>\n",
       "    <tr style=\"text-align: right;\">\n",
       "      <th></th>\n",
       "      <th>Age_Group</th>\n",
       "      <th>Subscription_Plan</th>\n",
       "    </tr>\n",
       "  </thead>\n",
       "  <tbody>\n",
       "    <tr>\n",
       "      <th>451</th>\n",
       "      <td>61+</td>\n",
       "      <td>Plus</td>\n",
       "    </tr>\n",
       "    <tr>\n",
       "      <th>174</th>\n",
       "      <td>26-40</td>\n",
       "      <td>Plus</td>\n",
       "    </tr>\n",
       "    <tr>\n",
       "      <th>15</th>\n",
       "      <td>18-25</td>\n",
       "      <td>Basic</td>\n",
       "    </tr>\n",
       "    <tr>\n",
       "      <th>393</th>\n",
       "      <td>41-60</td>\n",
       "      <td>Premium</td>\n",
       "    </tr>\n",
       "    <tr>\n",
       "      <th>192</th>\n",
       "      <td>26-40</td>\n",
       "      <td>Premium</td>\n",
       "    </tr>\n",
       "    <tr>\n",
       "      <th>40</th>\n",
       "      <td>18-25</td>\n",
       "      <td>Basic</td>\n",
       "    </tr>\n",
       "    <tr>\n",
       "      <th>124</th>\n",
       "      <td>18-25</td>\n",
       "      <td>Basic</td>\n",
       "    </tr>\n",
       "    <tr>\n",
       "      <th>317</th>\n",
       "      <td>41-60</td>\n",
       "      <td>Basic</td>\n",
       "    </tr>\n",
       "    <tr>\n",
       "      <th>187</th>\n",
       "      <td>26-40</td>\n",
       "      <td>Plus</td>\n",
       "    </tr>\n",
       "    <tr>\n",
       "      <th>140</th>\n",
       "      <td>26-40</td>\n",
       "      <td>Premium</td>\n",
       "    </tr>\n",
       "  </tbody>\n",
       "</table>\n",
       "</div>"
      ],
      "text/plain": [
       "    Age_Group Subscription_Plan\n",
       "451       61+              Plus\n",
       "174     26-40              Plus\n",
       "15      18-25             Basic\n",
       "393     41-60           Premium\n",
       "192     26-40           Premium\n",
       "40      18-25             Basic\n",
       "124     18-25             Basic\n",
       "317     41-60             Basic\n",
       "187     26-40              Plus\n",
       "140     26-40           Premium"
      ]
     },
     "execution_count": 5,
     "metadata": {},
     "output_type": "execute_result"
    }
   ],
   "source": [
    "# Show 10 rows randomly\n",
    "df.sample(10)"
   ]
  },
  {
   "cell_type": "markdown",
   "id": "abcc93e0",
   "metadata": {},
   "source": [
    "If we wanted to check any pattern between `Subscription_Plan` and `Age_Group` visually, good approaches are mosaic plots and stacked bar charts. We will proceed with the latter.\n",
    "\n",
    "To do so, we will need to make a contingency table displaying the proportions/percentages."
   ]
  },
  {
   "cell_type": "code",
   "execution_count": 6,
   "id": "9bb8e004",
   "metadata": {},
   "outputs": [
    {
     "data": {
      "text/html": [
       "<div>\n",
       "<style scoped>\n",
       "    .dataframe tbody tr th:only-of-type {\n",
       "        vertical-align: middle;\n",
       "    }\n",
       "\n",
       "    .dataframe tbody tr th {\n",
       "        vertical-align: top;\n",
       "    }\n",
       "\n",
       "    .dataframe thead th {\n",
       "        text-align: right;\n",
       "    }\n",
       "</style>\n",
       "<table border=\"1\" class=\"dataframe\">\n",
       "  <thead>\n",
       "    <tr style=\"text-align: right;\">\n",
       "      <th>Subscription_Plan</th>\n",
       "      <th>Basic</th>\n",
       "      <th>Plus</th>\n",
       "      <th>Premium</th>\n",
       "    </tr>\n",
       "    <tr>\n",
       "      <th>Age_Group</th>\n",
       "      <th></th>\n",
       "      <th></th>\n",
       "      <th></th>\n",
       "    </tr>\n",
       "  </thead>\n",
       "  <tbody>\n",
       "    <tr>\n",
       "      <th>18-25</th>\n",
       "      <td>36</td>\n",
       "      <td>49</td>\n",
       "      <td>40</td>\n",
       "    </tr>\n",
       "    <tr>\n",
       "      <th>26-40</th>\n",
       "      <td>20</td>\n",
       "      <td>80</td>\n",
       "      <td>50</td>\n",
       "    </tr>\n",
       "    <tr>\n",
       "      <th>41-60</th>\n",
       "      <td>29</td>\n",
       "      <td>63</td>\n",
       "      <td>33</td>\n",
       "    </tr>\n",
       "    <tr>\n",
       "      <th>61+</th>\n",
       "      <td>25</td>\n",
       "      <td>39</td>\n",
       "      <td>36</td>\n",
       "    </tr>\n",
       "  </tbody>\n",
       "</table>\n",
       "</div>"
      ],
      "text/plain": [
       "Subscription_Plan  Basic  Plus  Premium\n",
       "Age_Group                              \n",
       "18-25                 36    49       40\n",
       "26-40                 20    80       50\n",
       "41-60                 29    63       33\n",
       "61+                   25    39       36"
      ]
     },
     "execution_count": 6,
     "metadata": {},
     "output_type": "execute_result"
    }
   ],
   "source": [
    "# Create a contingency table for the stacked bar chart (and the Chi-Square test)\n",
    "contingency_table = pd.crosstab(df['Age_Group'], df['Subscription_Plan'])\n",
    "contingency_table"
   ]
  },
  {
   "cell_type": "code",
   "execution_count": 7,
   "id": "920ce7e1",
   "metadata": {},
   "outputs": [
    {
     "data": {
      "text/html": [
       "<div>\n",
       "<style scoped>\n",
       "    .dataframe tbody tr th:only-of-type {\n",
       "        vertical-align: middle;\n",
       "    }\n",
       "\n",
       "    .dataframe tbody tr th {\n",
       "        vertical-align: top;\n",
       "    }\n",
       "\n",
       "    .dataframe thead th {\n",
       "        text-align: right;\n",
       "    }\n",
       "</style>\n",
       "<table border=\"1\" class=\"dataframe\">\n",
       "  <thead>\n",
       "    <tr style=\"text-align: right;\">\n",
       "      <th>Subscription_Plan</th>\n",
       "      <th>Basic</th>\n",
       "      <th>Plus</th>\n",
       "      <th>Premium</th>\n",
       "    </tr>\n",
       "    <tr>\n",
       "      <th>Age_Group</th>\n",
       "      <th></th>\n",
       "      <th></th>\n",
       "      <th></th>\n",
       "    </tr>\n",
       "  </thead>\n",
       "  <tbody>\n",
       "    <tr>\n",
       "      <th>18-25</th>\n",
       "      <td>28.80</td>\n",
       "      <td>39.20</td>\n",
       "      <td>32.00</td>\n",
       "    </tr>\n",
       "    <tr>\n",
       "      <th>26-40</th>\n",
       "      <td>13.33</td>\n",
       "      <td>53.33</td>\n",
       "      <td>33.33</td>\n",
       "    </tr>\n",
       "    <tr>\n",
       "      <th>41-60</th>\n",
       "      <td>23.20</td>\n",
       "      <td>50.40</td>\n",
       "      <td>26.40</td>\n",
       "    </tr>\n",
       "    <tr>\n",
       "      <th>61+</th>\n",
       "      <td>25.00</td>\n",
       "      <td>39.00</td>\n",
       "      <td>36.00</td>\n",
       "    </tr>\n",
       "  </tbody>\n",
       "</table>\n",
       "</div>"
      ],
      "text/plain": [
       "Subscription_Plan  Basic   Plus  Premium\n",
       "Age_Group                               \n",
       "18-25              28.80  39.20    32.00\n",
       "26-40              13.33  53.33    33.33\n",
       "41-60              23.20  50.40    26.40\n",
       "61+                25.00  39.00    36.00"
      ]
     },
     "execution_count": 7,
     "metadata": {},
     "output_type": "execute_result"
    }
   ],
   "source": [
    "# Create a new table where each row sums to 100%\n",
    "sum_rows_ct = contingency_table.sum(axis='columns').values\n",
    "contingency_table_pct = contingency_table.div(sum_rows_ct, axis='index')*100\n",
    "contingency_table_pct.round(2)"
   ]
  },
  {
   "cell_type": "code",
   "execution_count": 8,
   "id": "9c9db5ab",
   "metadata": {},
   "outputs": [
    {
     "data": {
      "text/plain": [
       "Text(0.5, 1.0, 'Is it notable the relationship?')"
      ]
     },
     "execution_count": 8,
     "metadata": {},
     "output_type": "execute_result"
    },
    {
     "data": {
      "image/png": "[encoded data removed]",
      "text/plain": [
       "<Figure size 640x480 with 1 Axes>"
      ]
     },
     "metadata": {},
     "output_type": "display_data"
    }
   ],
   "source": [
    "# Plot the stacked bar chart to observe any relation\n",
    "ax = contingency_table_pct.plot.bar(stacked=True, rot=0)\n",
    "ax.legend(title='Subscription Plan', loc='right',  bbox_to_anchor=(1.3,0.5))\n",
    "ax.set_xlabel('User Age Groups')\n",
    "ax.set_ylabel('Percentage(%)')\n",
    "ax.set_title('Is it notable the relationship?', fontweight='bold', pad=10)"
   ]
  },
  {
   "cell_type": "markdown",
   "id": "e80afe6b",
   "metadata": {},
   "source": [
    "The plot’s message is clear: user between 26 and 40 years are more likely to purchase the plus plan than other age groups.\n",
    "\n",
    "However, we don’t know **how significant the relation is**. Not only does the Chi-square test answer this question, but it also quantifies it. That's why the chi-square test becomes handy, as it allows us to determine whether the relation between two categorical variables is significant (not to be confused with strong).\n",
    "\n",
    "The good news are that it is easy to run this test in Python with the `scipy.stats` library, as we only need the `contingency_table` we've already made as the input."
   ]
  },
  {
   "cell_type": "code",
   "execution_count": 9,
   "id": "6ac437fa",
   "metadata": {},
   "outputs": [
    {
     "name": "stdout",
     "output_type": "stream",
     "text": [
      "chi-square statistic: 14.6300117073702\n",
      "p-value: 0.02333806755384455\n",
      "degrees of freedom: 6\n",
      "expected values:\n",
      "[[27.5  57.75 39.75]\n",
      " [33.   69.3  47.7 ]\n",
      " [27.5  57.75 39.75]\n",
      " [22.   46.2  31.8 ]]\n"
     ]
    }
   ],
   "source": [
    "# Run the Chi-Square test\n",
    "chi2, p_value, dof, expected = chi2_contingency(contingency_table)\n",
    "\n",
    "print(f'chi-square statistic: {chi2}\\np-value: {p_value}\\ndegrees of freedom: {dof}\\nexpected values:\\n{expected}')"
   ]
  },
  {
   "cell_type": "markdown",
   "id": "aa63afc6",
   "metadata": {},
   "source": [
    "## **Explanation of the Chi-square test**"
   ]
  },
  {
   "cell_type": "markdown",
   "id": "d6870998",
   "metadata": {},
   "source": [
    "The test poses two different hypotheses: $$H_0:\\text{Suscription plans and user age groups are independent}$$ $$\\text{vs}$$ $$H_1:\\text{Suscription plans and user age groups are NOT independent}$$\n",
    "\n",
    "Let $p_i$ be the probability that a user has $i$ years, where $i\\in\\{18-25,26-40,41-60,61+\\}$, and $q_j$ the probability a user has the $j$ plan, where $j\\in\\{basic,plus,premium\\}$. Then we can denote the probability a user has $i$ years and the $j$ plan as $\\theta_{i,j}$. Because of the definition of independent events from probability, the hypotheses can be rewritten as $$H_0:\\theta_{i,j}=p_iq_j,\\,\\forall i,j$$ $$\\text{vs}$$ $$H_1:\\theta_{i,j}\\neq p_iq_j,\\,\\forall i,j$$\n",
    "\n",
    "As we don't know the actual values $p_i$ and $q_j$, we can use the (maximum likelihood) estimators $\\hat{p}_i=\\frac{m_i}{n}$ and $\\hat{q}_j=\\frac{n_j}{n}$, where $n$ is the number of users in the sample or dataset, 500, and $m_i$ ($n_j$) the number of those users who have $i$ years (the $j$ plan). \n",
    "\n",
    "In order to decide whether we should reject or not the null hypothesis $H_0$, it is convenient to explain the output of `chi2_contingency`.\n",
    "\n",
    "### Expected values\n",
    "\n",
    "Let's return for a moment to the contigency table:\n",
    "\n",
    "| Subscription_Plan  | Basic | Plus | Premium |\n",
    "|-----------|-------|------|---------|\n",
    "| **Age_Group**  | |  | |\n",
    "| 18-25     | 36    | 49   | 40      |\n",
    "| 26-40     | 20    | 80   | 50      |\n",
    "| 41-60     | 29    | 63   | 33      |\n",
    "| 61+       | 25    | 39   | 36      |\n"
   ]
  },
  {
   "cell_type": "markdown",
   "id": "9a9961a4",
   "metadata": {},
   "source": [
    "These values are called *observed values* $o_{i,j}$ for $i$ and $j$, since they come from the analysis. For example, $o_{26-40,plus}$ (the observed value from users having between 26 and 40 and a plus plan) is 80. If we assumed there is no relationship between subscription plans and age groups, i.e. we were under the null hypothesis, the *expected values* $e_{i,j}$ for $i$ and $j$ could be obtained by using $$e_{i,j} = n\\theta_{i,j}=np_iq_j\\approx n\\hat{p}_i\\hat{q}_j=n\\frac{m_i}{n}\\frac{n_j}{n}=\\frac{m_in_j}{n}$$ So to do that, we first need $m_i$ and $n_j$."
   ]
  },
  {
   "cell_type": "code",
   "execution_count": null,
   "id": "db38ff32",
   "metadata": {},
   "outputs": [
    {
     "data": {
      "text/html": [
       "<div>\n",
       "<style scoped>\n",
       "    .dataframe tbody tr th:only-of-type {\n",
       "        vertical-align: middle;\n",
       "    }\n",
       "\n",
       "    .dataframe tbody tr th {\n",
       "        vertical-align: top;\n",
       "    }\n",
       "\n",
       "    .dataframe thead th {\n",
       "        text-align: right;\n",
       "    }\n",
       "</style>\n",
       "<table border=\"1\" class=\"dataframe\">\n",
       "  <thead>\n",
       "    <tr style=\"text-align: right;\">\n",
       "      <th>Subscription_Plan</th>\n",
       "      <th>Basic</th>\n",
       "      <th>Plus</th>\n",
       "      <th>Premium</th>\n",
       "      <th>Sum_Ages (m_i)</th>\n",
       "    </tr>\n",
       "    <tr>\n",
       "      <th>Age_Group</th>\n",
       "      <th></th>\n",
       "      <th></th>\n",
       "      <th></th>\n",
       "      <th></th>\n",
       "    </tr>\n",
       "  </thead>\n",
       "  <tbody>\n",
       "    <tr>\n",
       "      <th>18-25</th>\n",
       "      <td>36</td>\n",
       "      <td>49</td>\n",
       "      <td>40</td>\n",
       "      <td>125</td>\n",
       "    </tr>\n",
       "    <tr>\n",
       "      <th>26-40</th>\n",
       "      <td>20</td>\n",
       "      <td>80</td>\n",
       "      <td>50</td>\n",
       "      <td>150</td>\n",
       "    </tr>\n",
       "    <tr>\n",
       "      <th>41-60</th>\n",
       "      <td>29</td>\n",
       "      <td>63</td>\n",
       "      <td>33</td>\n",
       "      <td>125</td>\n",
       "    </tr>\n",
       "    <tr>\n",
       "      <th>61+</th>\n",
       "      <td>25</td>\n",
       "      <td>39</td>\n",
       "      <td>36</td>\n",
       "      <td>100</td>\n",
       "    </tr>\n",
       "    <tr>\n",
       "      <th>Sum_Plans (n_j)</th>\n",
       "      <td>110</td>\n",
       "      <td>231</td>\n",
       "      <td>159</td>\n",
       "      <td>500</td>\n",
       "    </tr>\n",
       "  </tbody>\n",
       "</table>\n",
       "</div>"
      ],
      "text/plain": [
       "Subscription_Plan  Basic  Plus  Premium  Sum_Ages (m_i)\n",
       "Age_Group                                              \n",
       "18-25                 36    49       40             125\n",
       "26-40                 20    80       50             150\n",
       "41-60                 29    63       33             125\n",
       "61+                   25    39       36             100\n",
       "Sum_Plans (n_j)      110   231      159             500"
      ]
     },
     "execution_count": 10,
     "metadata": {},
     "output_type": "execute_result"
    }
   ],
   "source": [
    "# Create a new (copy) of the contingency table\n",
    "contingency_table2 = contingency_table.copy()\n",
    "\n",
    "# Sum rows\n",
    "contingency_table2['Sum_Ages (m_i)'] = contingency_table.sum(axis=1)\n",
    "\n",
    "# Sum columns\n",
    "n_j = pd.DataFrame(contingency_table2.sum()).T\n",
    "n_j.index = ['Sum_Plans (n_j)']\n",
    "\n",
    "# Concatenate the sums in the contingency table\n",
    "expanded_contingency_table = pd.concat([contingency_table2, n_j])\n",
    "expanded_contingency_table.index.name = 'Age_Group'\n",
    "\n",
    "expanded_contingency_table"
   ]
  },
  {
   "cell_type": "markdown",
   "id": "d2a506a7",
   "metadata": {},
   "source": [
    "Observe that the last cell value, 500, is the number of users within the sample: $n$. From here (and under the null hypothesis), we now know that, for example, $e_{26-40,plus}$ (the expected value of users having between 26 and 40 and a plus plan) is equal to $\\frac{150\\cdot231}{500}=69.30$. Note that this value is actually the same as the one from the 2nd row and 2nd column coefficient from the `expected` matrix:"
   ]
  },
  {
   "cell_type": "code",
   "execution_count": 11,
   "id": "91e82c2f",
   "metadata": {},
   "outputs": [
    {
     "data": {
      "text/plain": [
       "np.float64(69.3)"
      ]
     },
     "execution_count": 11,
     "metadata": {},
     "output_type": "execute_result"
    }
   ],
   "source": [
    "expected[1, 1]"
   ]
  },
  {
   "cell_type": "markdown",
   "id": "a56ed4c4",
   "metadata": {},
   "source": [
    "If we used that matrix to fill the contigency table, the notion of expected values becomes more evident."
   ]
  },
  {
   "cell_type": "code",
   "execution_count": 12,
   "id": "7cdf8291",
   "metadata": {},
   "outputs": [
    {
     "data": {
      "text/html": [
       "<div>\n",
       "<style scoped>\n",
       "    .dataframe tbody tr th:only-of-type {\n",
       "        vertical-align: middle;\n",
       "    }\n",
       "\n",
       "    .dataframe tbody tr th {\n",
       "        vertical-align: top;\n",
       "    }\n",
       "\n",
       "    .dataframe thead th {\n",
       "        text-align: right;\n",
       "    }\n",
       "</style>\n",
       "<table border=\"1\" class=\"dataframe\">\n",
       "  <thead>\n",
       "    <tr style=\"text-align: right;\">\n",
       "      <th>Subscription_Plan</th>\n",
       "      <th>Basic</th>\n",
       "      <th>Plus</th>\n",
       "      <th>Premium</th>\n",
       "    </tr>\n",
       "    <tr>\n",
       "      <th>Age_Group</th>\n",
       "      <th></th>\n",
       "      <th></th>\n",
       "      <th></th>\n",
       "    </tr>\n",
       "  </thead>\n",
       "  <tbody>\n",
       "    <tr>\n",
       "      <th>18-25</th>\n",
       "      <td>27.5</td>\n",
       "      <td>57.75</td>\n",
       "      <td>39.75</td>\n",
       "    </tr>\n",
       "    <tr>\n",
       "      <th>26-40</th>\n",
       "      <td>33.0</td>\n",
       "      <td>69.30</td>\n",
       "      <td>47.70</td>\n",
       "    </tr>\n",
       "    <tr>\n",
       "      <th>41-60</th>\n",
       "      <td>27.5</td>\n",
       "      <td>57.75</td>\n",
       "      <td>39.75</td>\n",
       "    </tr>\n",
       "    <tr>\n",
       "      <th>61+</th>\n",
       "      <td>22.0</td>\n",
       "      <td>46.20</td>\n",
       "      <td>31.80</td>\n",
       "    </tr>\n",
       "  </tbody>\n",
       "</table>\n",
       "</div>"
      ],
      "text/plain": [
       "Subscription_Plan  Basic   Plus  Premium\n",
       "Age_Group                               \n",
       "18-25               27.5  57.75    39.75\n",
       "26-40               33.0  69.30    47.70\n",
       "41-60               27.5  57.75    39.75\n",
       "61+                 22.0  46.20    31.80"
      ]
     },
     "execution_count": 12,
     "metadata": {},
     "output_type": "execute_result"
    }
   ],
   "source": [
    "expected_cont_table = pd.DataFrame(expected,\n",
    "                                   index=contingency_table.index,\n",
    "                                   columns=contingency_table.columns\n",
    "                                   )\n",
    "\n",
    "expected_cont_table"
   ]
  },
  {
   "cell_type": "markdown",
   "id": "4566d1f0",
   "metadata": {},
   "source": [
    "This is the expected contingency table under the null hypothesis of independence!!!\n",
    "\n",
    "Furthermore, we can plot a stacked bar chart of this (expected) contingency table next to the (observed) original one to see the difference more notably."
   ]
  },
  {
   "cell_type": "code",
   "execution_count": 13,
   "id": "23140a52",
   "metadata": {},
   "outputs": [
    {
     "data": {
      "image/png": "[encoded data removed]",
      "text/plain": [
       "<Figure size 2000x800 with 2 Axes>"
      ]
     },
     "metadata": {},
     "output_type": "display_data"
    }
   ],
   "source": [
    "# Transform the expected cont. table into percentages for rows\n",
    "sum_rows_df = expected_cont_table.sum(axis='columns').values\n",
    "exp_cont_table_pct = expected_cont_table.div(sum_rows_ct, axis='index')*100\n",
    "exp_cont_table_pct.round(2)\n",
    "\n",
    "# Plot the stacked bar charts for observed and expected cont. tables\n",
    "plt.rcParams.update({\n",
    "    'xtick.labelsize': 20,         # x-axis tick labels\n",
    "    'ytick.labelsize': 20,         # y-axis tick labels\n",
    "})\n",
    "\n",
    "fig, (ax1, ax2) = plt.subplots(1, 2, figsize=(20, 8), sharey=True)\n",
    "\n",
    "# Observerd plot\n",
    "contingency_table_pct.plot.bar(stacked=True, rot=0, ax=ax1, legend=False)\n",
    "ax1.set_title('Observed', fontweight='bold', pad=20, fontsize=50)\n",
    "ax1.set_xlabel('')\n",
    "\n",
    "# Expected plot\n",
    "exp_cont_table_pct.plot.bar(stacked=True, rot=0, ax=ax2, legend=False)\n",
    "ax2.set_title('Expected', fontweight='bold', pad=20, fontsize=50)\n",
    "ax2.set_xlabel('')\n",
    "\n",
    "fig.supxlabel('User Age Groups', fontsize=30, y=-0.025)\n",
    "fig.supylabel('Percentage(%)', fontsize=30, x=0.05)\n",
    "\n",
    "plt.subplots_adjust(wspace=0.1)"
   ]
  },
  {
   "cell_type": "markdown",
   "id": "538b149d",
   "metadata": {},
   "source": [
    "As you can see, the expected stacked bar chart does not change the proportions of users depending on the two attributes (age and plan)."
   ]
  },
  {
   "cell_type": "markdown",
   "id": "bbc0e3ee",
   "metadata": {},
   "source": [
    "### Chi-square statistic\n",
    "\n",
    "Let $r$ the total number of states than one attribute can have and let $s$ be the same total number for the other attribute. In our example, we set $r=4$ and $s=3$ since we have 4 different age groups and 3 different plans. We can define *chi-square statistic* formally as the following: $$d_n=\\sum_{i=1}^r\\sum_{j=1}^s\\frac{(o_{i,j}-e_{i,j})^2}{e_{i,j}}$$\n",
    "\n",
    "What this formula is actually telling us is how much every observed value differs (to the square) from its respective expected value. For example, remembering $o_{26-40,plus}=80$ and $e_{26-40,plus}=69.30$, we have $$\\frac{(80-69.30)^2}{69.30}$$ or, in other words, the observed value of user between 26-40 years and a plus differs approximately 4 times (to the square) with respect its expected value. Adding all these rates one can obtain the chi-square statistic. The bigger this statistic is, the more notabe are the differences between observed and expected values.\n",
    "\n",
    "In order to avoid calculating it by hand, we can use either array arithmetic or `chi2_contingency` from Python:"
   ]
  },
  {
   "cell_type": "code",
   "execution_count": 14,
   "id": "688f1f5b",
   "metadata": {},
   "outputs": [
    {
     "data": {
      "text/plain": [
       "(np.float64(14.6300117073702), np.float64(14.6300117073702))"
      ]
     },
     "execution_count": 14,
     "metadata": {},
     "output_type": "execute_result"
    }
   ],
   "source": [
    "((contingency_table.values - expected)**2/expected).sum(), chi2"
   ]
  },
  {
   "cell_type": "markdown",
   "id": "4e3dc77c",
   "metadata": {},
   "source": [
    "It is important to observe the chi-square statistic depends on the sample we have on the dataset. Every customer has a probability $\\theta_{i,j}$ of having $i$ years and plan $j$ and this affects both $o_{i,j}$ and $e_{i,j}$. Thus, changing either the size or the users from the sample implies getting a different value from the statistic. This motivates the construction of the random variable $D_n$ associated with the chi-square statistic $d_n$.\n",
    "\n",
    "In summary, $d_n$ is a number which is obtained from the actual sample of $n$ users (the one in the *Nutflux*'s dataset) and the formula we've defined, while $D_n$ is a random variable which comes from a random sample of $n$ users with probabilities $\\theta_{i,j}$. Therefore, $d_n$ is one of the possible values of $D_n$.\n",
    "\n",
    "### Degrees of freedom\n",
    "\n",
    "Although it is beyond the scope of this post, it can be proved $$D_n\\overset{\\mathcal{L}}{\\longrightarrow}\\chi^2_{(rs-r-s+1)},\\text{ when }n\\rightarrow\\infty$$ In other words, the distribution of values of $D_n$ (including $d_n$, of course) can be approximated by the well-known distribution of the $\\chi^2_{(rs-r-s+1)}$ when $n$ is large, as it is in this case for $n=500$. \n",
    "\n",
    "The subscript of $\\chi^2$ is called the *degrees of freedom*. Taking into account we set $r=4$ and $s=3$ previously, we have $$rs-r-s+1=6$$ degrees of freedom."
   ]
  },
  {
   "cell_type": "code",
   "execution_count": 15,
   "id": "8bed4841",
   "metadata": {},
   "outputs": [
    {
     "data": {
      "text/plain": [
       "6"
      ]
     },
     "execution_count": 15,
     "metadata": {},
     "output_type": "execute_result"
    }
   ],
   "source": [
    "dof"
   ]
  },
  {
   "cell_type": "markdown",
   "id": "1f968e1c",
   "metadata": {},
   "source": [
    "To decide whether we can reject $H_0$ or not, we have to fix what is called a *significance level* $\\alpha$. As investigators, $\\alpha$ is the maximum probability we are willing to accept of rejecting $H_0$ when it is actually true. This is important as we don't want to assume that there is relationship between the variables when it is not actually the case. The most popular values to choose are 0.05, 0.025 and 0.01. As $\\alpha$ is a parameter we can set to the value we want, we won't fix it yet.\n",
    "\n",
    "For the chi-square test, $$\\text{we can only reject } H_0 \\text{ if } d_{500}>c_{\\alpha,6}$$ where $c_{\\alpha,6}$ is the number such that $P(\\chi^2_{(6)}>c_{\\alpha,6})=\\alpha\\approx P(D_{500}>c_{\\alpha,6})$. The approximation is because of the convergence I showed earlier. Thus the probability of getting $d_{500}>c_{\\alpha,6}$ is $\\alpha$. We have strong evidence to reject the null hypothesis, althought it might be true.\n",
    "\n",
    "We could try computing $c_{\\alpha,6}$ with statistical tools such as softwares or calculators, but there is a better alternative, which the last output from `chi2_contingency`.\n",
    "\n",
    "### P-value\n",
    "\n",
    "The *p-value* gives use the probability that $D_{500}>d_{500}$. If the p-value $<\\alpha$, then we can reject $H_0$. Here is why: $$P(D_{500}>d_{500})=\\text{p-value}<\\alpha$$ so the probability of getting $d_{500}>c_{\\alpha,6}$ is less than $\\alpha$, rejecting the null hypothesis subsequently. On the other hand, if the p-value $\\geq\\alpha$, we would not have strong evidence to reject it.\n",
    "\n"
   ]
  },
  {
   "cell_type": "code",
   "execution_count": 16,
   "id": "7dade083",
   "metadata": {},
   "outputs": [
    {
     "data": {
      "text/plain": [
       "np.float64(0.02333806755384455)"
      ]
     },
     "execution_count": 16,
     "metadata": {},
     "output_type": "execute_result"
    }
   ],
   "source": [
    "p_value"
   ]
  },
  {
   "cell_type": "markdown",
   "id": "db9018ed",
   "metadata": {},
   "source": [
    "In our example, if we set $\\alpha=0.05=5\\%$ then $0.023<0.05$, rejecting the null hypothesis and assuming a (significant) relationship between age and plans of users. However, if $\\alpha=0.01=1\\%$, since $0.023\\geq0.01$, we can't reject the null hypothesis and there is not any (significant) relationship."
   ]
  },
  {
   "cell_type": "markdown",
   "id": "d5a0438d",
   "metadata": {},
   "source": [
    "# **3. Some last considerations**"
   ]
  },
  {
   "cell_type": "markdown",
   "id": "93280303",
   "metadata": {},
   "source": [
    "Although the chi-square test is intended to be applied for categorical variables, discretizing numerical variables (also called \"binning\") into intervals, thus converting them into categorical variables, is a very common and valid approach to apply the Chi-Square test of independence. This is what we did in the *Nutflux*'s example for the agers of the users: 18-25, 26-40, 41-60, 61+.\n",
    "\n",
    "However, this powerful technique comes with important **trade-offs and considerations**:\n",
    "\n",
    "1. **Loss of Information:** This is the biggest drawback. It implies throwing away the precise numerical information. The test will tell if the groups are related, but not the nature of the relationship (e.g., linear, quadratic). A 29-year-old and a 30-year-old are put in different bins, even though they are very similar.\n",
    "\n",
    "2. **Choice of Bins is Arbitrary and Influential:** The results can change dramatically based on how the bins are definded.\n",
    "\n",
    "    - Different bin boundaries can lead to different p-values and conclusions.\n",
    "\n",
    "    - Too few bins (over-aggregation) can hide interesting patterns.\n",
    "\n",
    "    - Too many bins can lead to sparse cells in the contingency table, which violates the assumptions of the chi-square test (see next point).\n",
    "\n",
    "3. **Chi-Square Test Assumptions:** The binning strategy must ensure the assumptions of the chi-square test:\n",
    "\n",
    "    - The test requires a sufficiently large sample size: $n$\n",
    "\n",
    "    - No more than 20% of the expected counts in the contingency table should be less than 5\n",
    "\n",
    "    - All individual expected counts should be 1 or greater."
   ]
  }
 ],
 "metadata": {
  "kernelspec": {
   "display_name": ".venv",
   "language": "python",
   "name": "python3"
  },
  "language_info": {
   "codemirror_mode": {
    "name": "ipython",
    "version": 3
   },
   "file_extension": ".py",
   "mimetype": "text/x-python",
   "name": "python",
   "nbconvert_exporter": "python",
   "pygments_lexer": "ipython3",
   "version": "3.13.5"
  }
 },
 "nbformat": 4,
 "nbformat_minor": 5
}
